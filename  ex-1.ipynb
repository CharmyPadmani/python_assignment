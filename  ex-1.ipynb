{
 "cells": [
  {
   "cell_type": "code",
   "execution_count": 1,
   "metadata": {},
   "outputs": [
    {
     "name": "stdout",
     "output_type": "stream",
     "text": [
      "1 2.01 Charmy\n"
     ]
    }
   ],
   "source": [
    "# (1) Create three variables in a single line and assign values to them in such a manner that each one of\n",
    "#them belongs to a different data type.\n",
    "#E.g. :\n",
    "#a = 1,\n",
    "#b = 2.01,\n",
    "#c = 'string'\n",
    "\n",
    "(a,b,c) = (1,2.01, \"Charmy\")\n",
    "print(a,b,c)"
   ]
  },
  {
   "cell_type": "code",
   "execution_count": 2,
   "metadata": {},
   "outputs": [
    {
     "name": "stdout",
     "output_type": "stream",
     "text": [
      "10\n",
      "(2+3j)\n"
     ]
    }
   ],
   "source": [
    "# 2. Create a variable of type complex and swap it with another variable of type integer.\n",
    "# using comma mathod\n",
    "\n",
    "x = 2 + 3j\n",
    "y = 10\n",
    "x,y = y,x\n",
    "print(x)\n",
    "print(y)"
   ]
  },
  {
   "cell_type": "code",
   "execution_count": 6,
   "metadata": {},
   "outputs": [
    {
     "name": "stdout",
     "output_type": "stream",
     "text": [
      "Charmy\n",
      "2\n"
     ]
    }
   ],
   "source": [
    "# 3.Create a variable of type complex and swap it with another variable of type integer.\n",
    "\n",
    "a = 2\n",
    "b =\"Charmy\"\n",
    "c=a\n",
    "a=b\n",
    "b=c\n",
    "print(a)\n",
    "print(b)"
   ]
  },
  {
   "cell_type": "code",
   "execution_count": 8,
   "metadata": {},
   "outputs": [
    {
     "name": "stdout",
     "output_type": "stream",
     "text": [
      "enter the youe name : charmy\n",
      "charmy\n"
     ]
    }
   ],
   "source": [
    "# 4. Write a program that takes input from the user and prints it using both Python 2.x and Python 3.x\n",
    "\n",
    "a = input(\"enter the youe name : \")\n",
    "print(a)"
   ]
  },
  {
   "cell_type": "code",
   "execution_count": 4,
   "metadata": {},
   "outputs": [
    {
     "name": "stdout",
     "output_type": "stream",
     "text": [
      "enter any number in between 1-10: 10\n",
      "enter any number in between 1-10: 5\n",
      "addition x + y + 30 =  45\n"
     ]
    }
   ],
   "source": [
    "# 5.Write a program to complete the task given below:\n",
    "#Ask users to enter any 2 numbers in between 1-10 , add the two numbers and keep the sum in\n",
    "#another variable called z. Add 30 to z and store the output in variable result and print result as the\n",
    "#final output.\n",
    "\n",
    "x = int(input(\"enter any number in between 1-10: \"))\n",
    "y = int(input(\"enter any number in between 1-10: \"))\n",
    "if x and y in range(1,10):\n",
    "    z = x+y\n",
    "    result = z + 30\n",
    "    print(\"addition x + y + 30 = \",result)\n",
    "else:\n",
    "    print(\"number not in range\")\n",
    "      \n"
   ]
  },
  {
   "cell_type": "code",
   "execution_count": 5,
   "metadata": {},
   "outputs": [
    {
     "name": "stdout",
     "output_type": "stream",
     "text": [
      "enter a input :2.5\n",
      "2.5\n"
     ]
    }
   ],
   "source": [
    "# 6. Write a program to check the data type of the entered values.\n",
    "#HINT: Printed output should say - The data type of the input value is : int/float/string/etc\n",
    "\n",
    "print(input(\"enter a input :\"))\n"
   ]
  },
  {
   "cell_type": "code",
   "execution_count": 17,
   "metadata": {},
   "outputs": [
    {
     "name": "stdout",
     "output_type": "stream",
     "text": [
      "UpperCamelCase\n",
      "lowerCamelCase\n",
      "sanke_case\n",
      "I AM CHARMY\n"
     ]
    }
   ],
   "source": [
    "# 7. Create Variables using formats such as Upper CamelCase, Lower CamelCase, SnakeCase and\n",
    "#UPPERCASE.\n",
    "#(Refer: https://capitalizemytitle.com/camel-case/)\n",
    "from re import sub\n",
    "\n",
    "def uper_camel_case(s):\n",
    "    s = sub(r\"(_|-)+\", \" \", s).title().replace(\" \", \"\")\n",
    "    return ''.join([s[0].upper(), s[1:]])\n",
    "print(uper_camel_case('UPPER CAMEL CASE'))\n",
    "\n",
    "\n",
    "def lower_camel_case(s):\n",
    "    s = sub(r\"(_|-)+\", \" \", s).title().replace(\" \", \"\")\n",
    "    return ''.join([s[0].lower(), s[1:]])\n",
    "print(lower_camel_case(\"lower camel case\"))\n",
    "\n",
    "def snake_case(s):\n",
    "    return '_'.join( sub('([A-Z][a-z]+)', r' \\1',\n",
    "    sub('([A-Z]+)', r' \\1',s.replace('-', ' '))).split()).lower()\n",
    "print(snake_case('SANKE CASE'))\n",
    "\n",
    "string = \"i am charmy\"\n",
    "print(string.upper())"
   ]
  },
  {
   "cell_type": "code",
   "execution_count": 1,
   "metadata": {},
   "outputs": [
    {
     "ename": "IndentationError",
     "evalue": "unexpected indent (<ipython-input-1-1866c6985777>, line 3)",
     "output_type": "error",
     "traceback": [
      "\u001b[1;36m  File \u001b[1;32m\"<ipython-input-1-1866c6985777>\"\u001b[1;36m, line \u001b[1;32m3\u001b[0m\n\u001b[1;33m    yes it will change value of variable 'a' because we did not asign data type to varible.\u001b[0m\n\u001b[1;37m    ^\u001b[0m\n\u001b[1;31mIndentationError\u001b[0m\u001b[1;31m:\u001b[0m unexpected indent\n"
     ]
    }
   ],
   "source": [
    "# 8. If one data type value is assigned to ‘a’ variable and then a different data type value is assigned to ‘a’again. Will it change the value? If Yes then Why?\n",
    "# ANSWER\n",
    " yes it will change value of variable 'a' because we did not asign data type to varible.\n",
    "it is decide by the value of variable so that very time new value with different data type will change the datatype of\"a."
   ]
  },
  {
   "cell_type": "code",
   "execution_count": null,
   "metadata": {},
   "outputs": [],
   "source": []
  }
 ],
 "metadata": {
  "kernelspec": {
   "display_name": "Python 3",
   "language": "python",
   "name": "python3"
  },
  "language_info": {
   "codemirror_mode": {
    "name": "ipython",
    "version": 3
   },
   "file_extension": ".py",
   "mimetype": "text/x-python",
   "name": "python",
   "nbconvert_exporter": "python",
   "pygments_lexer": "ipython3",
   "version": "3.7.6"
  }
 },
 "nbformat": 4,
 "nbformat_minor": 4
}
