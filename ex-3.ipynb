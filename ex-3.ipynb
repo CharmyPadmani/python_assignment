{
 "cells": [
  {
   "cell_type": "code",
   "execution_count": 52,
   "metadata": {},
   "outputs": [
    {
     "name": "stdout",
     "output_type": "stream",
     "text": [
      " Create a list of 10 elements of four different data types like int, string, complex and float.5\n",
      " Create a list of 10 elements of four different data types like int, string, complex and float.2.5\n",
      " Create a list of 10 elements of four different data types like int, string, complex and float.\"charmy\n",
      "['5', '2.5', '\"charmy']\n"
     ]
    }
   ],
   "source": [
    "l1=[]\n",
    "a=0\n",
    "for a in range(1,4):\n",
    "    data= input(\" Create a list of 10 elements of four different data types like int, string, complex and float.\")\n",
    "    l1.append(data)\n",
    "    \n",
    "#l1 =','.join(l1)\n",
    "print(l1)"
   ]
  },
  {
   "cell_type": "code",
   "execution_count": 1,
   "metadata": {},
   "outputs": [
    {
     "name": "stdout",
     "output_type": "stream",
     "text": [
      "[2, 6.89, 'Charmy', (9+79j), 77.18, 560, 'Krunal', 'Jon', (10+12j), 99]\n"
     ]
    }
   ],
   "source": [
    "# 1. Create a list of 10 elements of four different data types like int, string, complex and float.\n",
    "\n",
    "list = [2, 6.89,\"Charmy\", (9+79j), 77.18, 560, \"Krunal\", \"Jon\", 10+12j, 99]\n",
    "print(list)"
   ]
  },
  {
   "cell_type": "code",
   "execution_count": 3,
   "metadata": {},
   "outputs": [
    {
     "name": "stdout",
     "output_type": "stream",
     "text": [
      "[100, 'Charmy']\n"
     ]
    }
   ],
   "source": [
    "#2. Create a list of size 5 and execute the slicing structure\n",
    "\n",
    "list_slicing = [8, 2.5, 100, \"Charmy\", \"Padmani\"]\n",
    "print(list_slicing[2:4])"
   ]
  },
  {
   "cell_type": "code",
   "execution_count": 7,
   "metadata": {},
   "outputs": [
    {
     "name": "stdout",
     "output_type": "stream",
     "text": [
      "[2, 8, 1, 8, 5, 6]\n",
      "sum of list item  30\n",
      "multiply of list item  3840\n"
     ]
    }
   ],
   "source": [
    "# 3. Write a program to get the sum and multiply of all the items in a given list.\n",
    "\n",
    "list3= [2, 8, 1, 8, 5, 6]\n",
    "sum=0\n",
    "mul=1\n",
    "for i in list3:\n",
    "    sum = i + sum\n",
    "    mul = i * mul\n",
    "print(list1)\n",
    "print(\"sum of list item \", sum) \n",
    "print(\"multiply of list item \", mul) \n",
    "    "
   ]
  },
  {
   "cell_type": "code",
   "execution_count": 15,
   "metadata": {},
   "outputs": [
    {
     "name": "stdout",
     "output_type": "stream",
     "text": [
      "[2, 25, 89, 254, 245, 4, 0]\n",
      "min number:  0\n",
      "max number:  254\n"
     ]
    }
   ],
   "source": [
    "# 4. Find the largest and smallest number from a given list.\n",
    "\n",
    "list4 = [2, 25, 89, 254, 245, 4, 0]\n",
    "print(list4)\n",
    "print(\"min number: \",min(list4))\n",
    "print(\"max number: \", max(list4))\n"
   ]
  },
  {
   "cell_type": "code",
   "execution_count": 16,
   "metadata": {},
   "outputs": [
    {
     "name": "stdout",
     "output_type": "stream",
     "text": [
      "[25, 26.03, 99, 56.22, 3.1]\n"
     ]
    }
   ],
   "source": [
    "# 5. Create a new list which contains the specified numbers after removing the even numbers from apredefined list.\n",
    "\n",
    "list5 =[25, 22, 98, 100, 26.03, 99, 56.22, 3.1]\n",
    "new_list= [x for x in list5 if x%2!=0]\n",
    "print(new_list)"
   ]
  },
  {
   "cell_type": "code",
   "execution_count": 26,
   "metadata": {},
   "outputs": [
    {
     "name": "stdout",
     "output_type": "stream",
     "text": [
      "[1, 4, 9, 16, 25, 676, 729, 784, 841, 900]\n"
     ]
    }
   ],
   "source": [
    "# 6. Create a list of elements such that it contains the squares of the first and last 5 elements between\n",
    "# 1 and30 (both included).\n",
    "\n",
    "list6=[]\n",
    "for x in range(1,31): \n",
    "     list6.append(x**2)\n",
    "print(list6[:5] + list6[-5:])\n"
   ]
  },
  {
   "cell_type": "code",
   "execution_count": 27,
   "metadata": {},
   "outputs": [
    {
     "name": "stdout",
     "output_type": "stream",
     "text": [
      "[1, 3, 5, 7, 9, 2, 4, 6, 8]\n"
     ]
    }
   ],
   "source": [
    "# 7. Write a program to replace the last element in a list with another list.\n",
    "# Sample input: [1,3,5,7,9,10], [2,4,6,8]\n",
    "# Expected output: [1,3,5,7,9,2,4,6,8]\n",
    "\n",
    "list7 = [1,3,5,7,9,10]\n",
    "another_list = [2,4,6,8]\n",
    "print(list7[:-1]+another_list)"
   ]
  },
  {
   "cell_type": "code",
   "execution_count": 36,
   "metadata": {},
   "outputs": [
    {
     "name": "stdout",
     "output_type": "stream",
     "text": [
      "None\n",
      "{1: 10, 2: 20, 3: 30, 4: 40}\n"
     ]
    }
   ],
   "source": [
    "# 8 Create a new dictionary by concatenating the following two dictionaries:\n",
    "#Sample input: a={1:10,2:20} b={3:30,4:40}\n",
    "#Expected output: {1:10,2:20,3:30,4:40}\n",
    "\n",
    "a={1:10,2:20}\n",
    "b={3:30,4:40}\n",
    "print\n",
    "print(a.update(b))\n",
    "print(a)"
   ]
  },
  {
   "cell_type": "code",
   "execution_count": 51,
   "metadata": {},
   "outputs": [
    {
     "name": "stdout",
     "output_type": "stream",
     "text": [
      "enter lenth of the dictionary : 5\n",
      "5\n",
      "{1: 1, 2: 4, 3: 9, 4: 16, 5: 25}\n"
     ]
    }
   ],
   "source": [
    "#  9. Create a dictionary that contain numbers in the form(x:x*x) where x takes all the values between 1\n",
    "#and n(both 1 and n included).\n",
    "#Sample input: n=5\n",
    "#Expected output: {1:1, 2:4, 3:9, 4:16, 5:25}\n",
    "\n",
    "n = int(input(\"enter lenth of the dictionary : \"))\n",
    "dic9 ={}\n",
    "print(n)\n",
    "for i in range(1, n+1):\n",
    "    dic9[i] = i*i\n",
    "    #dic9.update(dic9)\n",
    "print(dic9)\n",
    "    \n",
    "\n"
   ]
  },
  {
   "cell_type": "code",
   "execution_count": 54,
   "metadata": {},
   "outputs": [
    {
     "name": "stdout",
     "output_type": "stream",
     "text": [
      "Type in numbers seperated only by a comma :58,20,14,56,97,100\n",
      "('22', '25', '48', '54', '14', '10', '21')\n",
      "['22', '25', '48', '54', '14', '10', '21']\n"
     ]
    }
   ],
   "source": [
    "# 10. Write a program which accepts a sequence of comma-separated numbers from console and\n",
    "#generates a list and a tuple which contains every number in the form of string.\n",
    "#Sample input: 34,67,55,33,12,98\n",
    "#Expected output: [‘34’,’67’,’55’,’33’,’12’,’98’] (‘34’,’67’,’55’,’33’,’12’,’98’)\n",
    "\n",
    "numb = input(\"Type in numbers seperated only by a comma :\")\n",
    "num_split = numbers.split(',')\n",
    "\n",
    "print(tuple(num_split))\n",
    "print(num_split)\n"
   ]
  },
  {
   "cell_type": "code",
   "execution_count": null,
   "metadata": {},
   "outputs": [],
   "source": []
  }
 ],
 "metadata": {
  "kernelspec": {
   "display_name": "Python 3",
   "language": "python",
   "name": "python3"
  },
  "language_info": {
   "codemirror_mode": {
    "name": "ipython",
    "version": 3
   },
   "file_extension": ".py",
   "mimetype": "text/x-python",
   "name": "python",
   "nbconvert_exporter": "python",
   "pygments_lexer": "ipython3",
   "version": "3.7.6"
  }
 },
 "nbformat": 4,
 "nbformat_minor": 4
}
