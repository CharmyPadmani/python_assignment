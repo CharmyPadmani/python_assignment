{
 "cells": [
  {
   "cell_type": "code",
   "execution_count": 1,
   "metadata": {},
   "outputs": [
    {
     "name": "stdout",
     "output_type": "stream",
     "text": [
      "enter the number : 90\n",
      "90\n",
      "Consultadd -Python Training\n"
     ]
    }
   ],
   "source": [
    "# 1. If a number is divisible by 3 it should print “Consultadd” as a string\n",
    "#If a number is divisible by 5 it should print “Python Training” as a string\n",
    "#If a number is divisible by both 3 and 5 it should print “Consultadd - Python Training” as astring.\n",
    "\n",
    "a = int(input(\"enter the number : \"))\n",
    "print(a)\n",
    "if a%3==0 and a%5==0:\n",
    "    print(\"Consultadd -Python Training\")\n",
    "elif a%3==0:\n",
    "    print(\"Consultadd\")\n",
    "elif a%5==0:\n",
    "    print(\"Python Training\")\n",
    "else:\n",
    "    print(\"number is not divisible by 3 and 5\")\n",
    "    "
   ]
  },
  {
   "cell_type": "code",
   "execution_count": 3,
   "metadata": {},
   "outputs": [
    {
     "name": "stdout",
     "output_type": "stream",
     "text": [
      "choose the folling option first: Addition Subtraction Division Multiplication Average : average\n",
      "average\n",
      "enter the numer1 : 8\n",
      "enter the numer2 : 2\n",
      "enter the numer3 : 7\n",
      "enter the numer4 : 3\n",
      "average of two number :  5.0\n"
     ]
    }
   ],
   "source": [
    "# 2 add sub div mul avg\n",
    "\n",
    "a = input(\"choose the folling option first: Addition Subtraction Division Multiplication Average : \")\n",
    "option = a.lower()\n",
    "print(option)\n",
    "num1 = int(input(\"enter the numer1 : \"))\n",
    "num2 = int(input(\"enter the numer2 : \"))\n",
    "\n",
    "if option == \"addition\":\n",
    "        num_add = num1 + num2\n",
    "        if num_add >= 0:\n",
    "            print(\"addition of two number : \", num_add)\n",
    "        else: \n",
    "            print(\"NEGATIVE\", num_add)\n",
    "        \n",
    "elif option == \"subtraction\":\n",
    "            num_sub = num1 - num2\n",
    "            if num_sub >= 0:\n",
    "                print(\"subtraction of two number : \", num_sub)\n",
    "            else: \n",
    "                print(\"NEGATIVE\", num_sub)\n",
    "        \n",
    "\n",
    "elif option == \"division\":\n",
    "        num_div = num1 / num2\n",
    "        if num_div >= 0:\n",
    "             print(\"division of two number : \", num_div)\n",
    "        else: \n",
    "             print(\"NEGATIVE\", num_div)\n",
    "        \n",
    "elif option == \"multiplicaion\":\n",
    "        num_mul = num1 * num2\n",
    "        if num_mul >= 0:\n",
    "             print(\"multiplicaion of two number : \", num_mul)\n",
    "        else: \n",
    "              print(\"NEGATIVE\", num_mul)\n",
    "        \n",
    "elif option == \"average\":\n",
    "        num3 = int(input(\"enter the numer3 : \"))\n",
    "        num4 = int(input(\"enter the numer4 : \"))\n",
    "        num_avg = (num1 +num2+num3+num4)/4\n",
    "        if num_avg >= 0:\n",
    "            print(\"average of two number : \", num_avg)\n",
    "        else: \n",
    "            print(\"NEGATIVE\", num_avg)\n",
    "        \n",
    "else:\n",
    "    print(\"enter the correct option\")"
   ]
  },
  {
   "cell_type": "code",
   "execution_count": 21,
   "metadata": {},
   "outputs": [
    {
     "name": "stdout",
     "output_type": "stream",
     "text": [
      "a, b, c  10 20 30\n",
      "avg = 20.0\n",
      "avg is just higher than a\n"
     ]
    }
   ],
   "source": [
    "# 3\n",
    "\n",
    "a=10\n",
    "b=20\n",
    "c=30\n",
    "print(\"a, b, c \",a,b,c )\n",
    "avg =(a+b+c)/3\n",
    "print(\"avg =\", avg)\n",
    "if (avg > a and avg > b and avg > c):\n",
    "    print(\"avg is higher than a,b,c\")\n",
    "elif (avg>a and avg>b):\n",
    "    print(\"avg is higher than a, b\")\n",
    "elif (avg>a and avg>c):\n",
    "    print(\"avg is higher than a, c\")\n",
    "elif (avg>b and avg>c):\n",
    "    print(\"avg is higher than b, c\")\n",
    "elif (avg>a):\n",
    "    print(\"avg is just higher than a\")\n",
    "elif (avg>b):\n",
    "    print(\"avg is just higher than b\")\n",
    "elif (avg>c):\n",
    "    print(\"avg is just higher than c\")\n",
    "\n"
   ]
  },
  {
   "cell_type": "code",
   "execution_count": 1,
   "metadata": {},
   "outputs": [
    {
     "name": "stdout",
     "output_type": "stream",
     "text": [
      "user a positive or negative number85555\n",
      "Good Going 85555\n",
      "user a positive or negative number20\n",
      "Good Going 20\n",
      "user a positive or negative number0\n",
      "Good Going 0\n",
      "user a positive or negative number-89\n",
      "It's Over -89\n"
     ]
    }
   ],
   "source": [
    "# 4 Write a program in Python to break and continue if the following cases occurs:\n",
    "#If user enters a negative number just break the loop and print “It’s Over”\n",
    "#If user enters a positive number just continue in the loop and print “Good Going”\n",
    "number = 0\n",
    "while True:\n",
    "        number = int(input(\"user a positive or negative number\"))\n",
    "        if (number >= 0):\n",
    "            print(\"Good Going\",number)\n",
    "            continue\n",
    "        else: \n",
    "            print(\"It's Over\",number )\n",
    "            break"
   ]
  },
  {
   "cell_type": "code",
   "execution_count": 4,
   "metadata": {},
   "outputs": [
    {
     "name": "stdout",
     "output_type": "stream",
     "text": [
      "2030,2065,2100,2135,2170,2205,2240,2275,2310,2345,2380,2415,2450,2485,2520,2555,2590,2625,2660,2695,2730,2765,2800,2835,2870,2905,2940,2975,3010,3045,3080,3115,3150,3185\n"
     ]
    }
   ],
   "source": [
    "# 5 Write a program in Python which will find all such numbers which are divisible by 7 but are not a\n",
    "#0multiple of 5, between 2000 and 3200.\n",
    "num = []\n",
    "for x in range(2000, 3200):\n",
    "    if (x%7==0) and (x%5==0):\n",
    "         num.append(str(x))\n",
    "print(','.join(num))\n",
    "  "
   ]
  },
  {
   "cell_type": "code",
   "execution_count": 72,
   "metadata": {},
   "outputs": [
    {
     "ename": "TypeError",
     "evalue": "'int' object is not iterable",
     "output_type": "error",
     "traceback": [
      "\u001b[1;31m---------------------------------------------------------------------------\u001b[0m",
      "\u001b[1;31mTypeError\u001b[0m                                 Traceback (most recent call last)",
      "\u001b[1;32m<ipython-input-72-f753787a71aa>\u001b[0m in \u001b[0;36m<module>\u001b[1;34m\u001b[0m\n\u001b[0;32m      2\u001b[0m \u001b[1;33m\u001b[0m\u001b[0m\n\u001b[0;32m      3\u001b[0m \u001b[0mx\u001b[0m\u001b[1;33m=\u001b[0m\u001b[1;36m123\u001b[0m\u001b[1;33m\u001b[0m\u001b[1;33m\u001b[0m\u001b[0m\n\u001b[1;32m----> 4\u001b[1;33m \u001b[1;32mfor\u001b[0m \u001b[0mi\u001b[0m \u001b[1;32min\u001b[0m \u001b[0mx\u001b[0m\u001b[1;33m:\u001b[0m\u001b[1;33m\u001b[0m\u001b[1;33m\u001b[0m\u001b[0m\n\u001b[0m\u001b[0;32m      5\u001b[0m     \u001b[0mprint\u001b[0m\u001b[1;33m(\u001b[0m\u001b[0mi\u001b[0m\u001b[1;33m)\u001b[0m\u001b[1;33m\u001b[0m\u001b[1;33m\u001b[0m\u001b[0m\n",
      "\u001b[1;31mTypeError\u001b[0m: 'int' object is not iterable"
     ]
    }
   ],
   "source": [
    "# 6 What is the output of the following code examples?\n",
    "\n",
    "x=123\n",
    "for i in x:\n",
    "    print(i)"
   ]
  },
  {
   "cell_type": "code",
   "execution_count": 74,
   "metadata": {},
   "outputs": [
    {
     "name": "stdout",
     "output_type": "stream",
     "text": [
      "0\n",
      "error\n",
      "1\n",
      "error\n",
      "2\n"
     ]
    }
   ],
   "source": [
    "# 6\n",
    "i = 0\n",
    "while i < 5:\n",
    "    print(i)\n",
    "    i += 1\n",
    "    if i == 3:\n",
    "        break\n",
    "    else:\n",
    "        print(\"error\")"
   ]
  },
  {
   "cell_type": "code",
   "execution_count": 76,
   "metadata": {},
   "outputs": [
    {
     "name": "stdout",
     "output_type": "stream",
     "text": [
      "0\n",
      "1\n",
      "2\n",
      "3\n",
      "4\n"
     ]
    }
   ],
   "source": [
    "# 6\n",
    "count = 0\n",
    "while True:\n",
    "    print(count)\n",
    "    count += 1\n",
    "    if count >= 5:\n",
    "        break"
   ]
  },
  {
   "cell_type": "code",
   "execution_count": 68,
   "metadata": {
    "scrolled": true
   },
   "outputs": [
    {
     "name": "stdout",
     "output_type": "stream",
     "text": [
      "0\n",
      "1\n",
      "2\n",
      "4\n",
      "5\n"
     ]
    }
   ],
   "source": [
    "# 7 Write a program that prints all the numbers from 0 to 6 except 3 and 6.\n",
    "#Expected output: 0 1 2 4 5\n",
    "#Note: Use ‘continue’ statement\n",
    "\n",
    "for i in range(7):\n",
    "    if i==3 or i==6:\n",
    "        continue\n",
    "    else:\n",
    "        print (i)"
   ]
  },
  {
   "cell_type": "code",
   "execution_count": null,
   "metadata": {},
   "outputs": [],
   "source": []
  },
  {
   "cell_type": "code",
   "execution_count": 65,
   "metadata": {},
   "outputs": [
    {
     "name": "stdout",
     "output_type": "stream",
     "text": [
      "enter the stringcdf@#$258\n",
      "cdf@#$258\n",
      "Letters: 3\n",
      "Digits: 3\n"
     ]
    }
   ],
   "source": [
    "# 8  Write a program that accepts a string as an input from the user and calculate the number of digitsand letters.\n",
    "#Sample input: consul72\n",
    "#Expected output: Letters 6 Digits 2\n",
    "\n",
    "string = input(\"enter the string\")\n",
    "chars = 0   #defaultdict(int)\n",
    "nums = 0\n",
    "print(string)\n",
    "for i in string:\n",
    "    if (i.isdigit()):\n",
    "        nums += 1\n",
    "    elif (i.isalpha()):\n",
    "        chars += 1\n",
    "    else:\n",
    "        pass\n",
    "        \n",
    "print(\"Letters:\", chars)\n",
    "print(\"Digits:\",nums)"
   ]
  },
  {
   "cell_type": "code",
   "execution_count": null,
   "metadata": {},
   "outputs": [],
   "source": [
    "# 9\n",
    "\n",
    "counter = 1\n",
    "lucky_number = [50,289,22,140,54]\n",
    "number = int(input(\"Guess the lucky number: \"))\n",
    "while True:\n",
    "    \n",
    "    for i in lucky_number:\n",
    "        while i==number:\n",
    "            #number = int(input(\"Guess the lucky number: \"))\n",
    "            print(\"Good guess!\")\n",
    "            answer = input(\"you want to continue guessing. enter 'YES' otherwise 'NO' \")\n",
    "            if answer == \"yes\":\n",
    "                 pass\n",
    "            else:\n",
    "                 break\n",
    "            \n",
    "   # print(\"Try again!\")\n",
    "    #counter=counter+1\n",
    "#print(\"Game over!\")"
   ]
  },
  {
   "cell_type": "code",
   "execution_count": 5,
   "metadata": {},
   "outputs": [
    {
     "name": "stdout",
     "output_type": "stream",
     "text": [
      "Guess the 5 lucky number: 20\n",
      "Try again!\n",
      "Guess the 5 lucky number: 84\n",
      "Try again!\n",
      "Guess the 5 lucky number: 289\n",
      "Good guess!\n",
      "Guess the 5 lucky number: 40\n",
      "Try again!\n",
      "Guess the 5 lucky number: 140\n",
      "Good guess!\n",
      "Game over!\n"
     ]
    }
   ],
   "source": [
    "# 10\n",
    "\n",
    "counter = 1\n",
    "lucky_number = [50,289,22,140,54]\n",
    "while counter <=5:\n",
    "    number = int(input(\"Guess the 5 lucky number: \"))\n",
    "    for i in lucky_number:\n",
    "            \n",
    "            if i==number:\n",
    "                print(\"Good guess!\")\n",
    "                break\n",
    "    if i!= number:\n",
    "         print(\"Try again!\")\n",
    "    counter=counter+1\n",
    "print(\"Game over!\")\n",
    "            "
   ]
  },
  {
   "cell_type": "code",
   "execution_count": 2,
   "metadata": {},
   "outputs": [
    {
     "name": "stdout",
     "output_type": "stream",
     "text": [
      "Guess the  lucky number: 56\n",
      "Try again!\n",
      "Guess the  lucky number: 20\n",
      "Try again!\n",
      "Guess the  lucky number: 54\n",
      "Good guess!\n"
     ]
    }
   ],
   "source": [
    "# 11\n",
    "counter = 1\n",
    "lucky_number = [50, 289, 22, 140, 54]\n",
    "while counter <= 5:\n",
    "    number = int(input(\"Guess the  lucky number: \"))\n",
    "    for i in lucky_number:\n",
    "\n",
    "        if i == number:\n",
    "            print(\"Good guess!\")\n",
    "            counter = 10\n",
    "            break\n",
    "    if i != number:\n",
    "        print(\"Try again!\")\n",
    "    counter = counter + 1\n",
    "if counter ==6:\n",
    "    print(\"Sorry but that was not very successful\")\n"
   ]
  },
  {
   "cell_type": "code",
   "execution_count": null,
   "metadata": {},
   "outputs": [],
   "source": []
  }
 ],
 "metadata": {
  "kernelspec": {
   "display_name": "Python 3",
   "language": "python",
   "name": "python3"
  },
  "language_info": {
   "codemirror_mode": {
    "name": "ipython",
    "version": 3
   },
   "file_extension": ".py",
   "mimetype": "text/x-python",
   "name": "python",
   "nbconvert_exporter": "python",
   "pygments_lexer": "ipython3",
   "version": "3.7.6"
  }
 },
 "nbformat": 4,
 "nbformat_minor": 4
}
