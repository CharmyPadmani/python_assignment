{
 "cells": [
  {
   "cell_type": "code",
   "execution_count": 4,
   "metadata": {},
   "outputs": [
    {
     "name": "stdout",
     "output_type": "stream",
     "text": [
      "['C', 'P', 'I']\n"
     ]
    }
   ],
   "source": [
    "# 1. Write a program in Python to find out the character in a string which is uppercase using list comprehension.\n",
    "string=\"CharmyPadmanI\"\n",
    "result= [x for x in string if x.isupper()]\n",
    "print(str(result))\n"
   ]
  },
  {
   "cell_type": "code",
   "execution_count": 9,
   "metadata": {},
   "outputs": [
    {
     "name": "stdout",
     "output_type": "stream",
     "text": [
      "Original students list is :  ['Smit', 'Jaya', 'Rayyan']\n",
      "Original subjects list is :  ['CSE', 'Networking', 'Operating System']\n",
      "Resultant dictionary is :  {'Smit': 'CSE', 'Jaya': 'Networking', 'Rayyan': 'Operating System'}\n"
     ]
    }
   ],
   "source": [
    "#2. Write a program to construct a dictionary from the two lists containing the names of students and\n",
    "#their corresponding subjects. The dictionary should map the students with their respective subjects.\n",
    "#Let’s see how to do this using for loops and dictionary comprehension.\n",
    "\n",
    "students = ['Smit', 'Jaya', 'Rayyan']\n",
    "subjects = ['CSE', 'Networking', 'Operating System']\n",
    "  \n",
    "print (\"Original students list is : \" , students)\n",
    "print (\"Original subjects list is : \" ,subjects)\n",
    " \n",
    "print (\"Resultant dictionary is : \" , dict(zip(students, subjects)))\n"
   ]
  },
  {
   "cell_type": "code",
   "execution_count": 2,
   "metadata": {},
   "outputs": [
    {
     "name": "stdout",
     "output_type": "stream",
     "text": [
      "gniniarT ddatlusnoC\n"
     ]
    }
   ],
   "source": [
    "#  4. Write a program in Python using generators to reverse the string.\n",
    "#Input String = “Consultadd Training”\n",
    "\n",
    "def reverse(string):\n",
    "    string = string[::-1]\n",
    "    yield string\n",
    "       \n",
    "x =reverse(\"Consultadd Training\")\n",
    "print(x.__next__())"
   ]
  },
  {
   "cell_type": "code",
   "execution_count": 16,
   "metadata": {},
   "outputs": [
    {
     "name": "stdout",
     "output_type": "stream",
     "text": [
      "3.0\n"
     ]
    }
   ],
   "source": [
    "#5. Write an example on decorators.\n",
    "\n",
    "def div(a, b):\n",
    "   \n",
    "    print(a/b) \n",
    "    \n",
    "def extra_fun(func):\n",
    "    \n",
    "    def inner(a,b):\n",
    "        if a<b:\n",
    "            a,b =b,a\n",
    "        return func(a,b)\n",
    "    \n",
    "    return inner\n",
    "        \n",
    "div =extra_fun (div)\n",
    "div(2,6)"
   ]
  },
  {
   "cell_type": "code",
   "execution_count": 21,
   "metadata": {},
   "outputs": [
    {
     "name": "stdout",
     "output_type": "stream",
     "text": [
      "3.0\n"
     ]
    }
   ],
   "source": [
    "@extra_fun\n",
    "def div(a, b):\n",
    "   \n",
    "    print(a/b) \n",
    "    \n",
    "def extra_fun(func):\n",
    "    \n",
    "    def inner(*args,**Kwarge):\n",
    "        if a < b:\n",
    "            a,b =b,a\n",
    "        return func(*args,**Kwarge)\n",
    "    \n",
    "    return inner\n",
    "        \n",
    "\n",
    "div(2,6)"
   ]
  },
  {
   "cell_type": "code",
   "execution_count": null,
   "metadata": {},
   "outputs": [],
   "source": []
  }
 ],
 "metadata": {
  "kernelspec": {
   "display_name": "Python 3",
   "language": "python",
   "name": "python3"
  },
  "language_info": {
   "codemirror_mode": {
    "name": "ipython",
    "version": 3
   },
   "file_extension": ".py",
   "mimetype": "text/x-python",
   "name": "python",
   "nbconvert_exporter": "python",
   "pygments_lexer": "ipython3",
   "version": "3.7.6"
  }
 },
 "nbformat": 4,
 "nbformat_minor": 4
}
