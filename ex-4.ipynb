{
 "cells": [
  {
   "cell_type": "code",
   "execution_count": 8,
   "metadata": {},
   "outputs": [
    {
     "name": "stdout",
     "output_type": "stream",
     "text": [
      "orignal string 1234abcd\n",
      "reverse string dcba4321\n"
     ]
    }
   ],
   "source": [
    "# 1. Write a program to reverse a string.\n",
    "#Sample input: “1234abcd”\n",
    "#Expected output: “dcba4321”\n",
    "\n",
    "def reverse_string(str):\n",
    "    return str[::-1]\n",
    "str_data = \"1234abcd\"\n",
    "print(\"orignal string\", str_data)\n",
    "print(\"reverse string\", reverse_string(\"1234abcd\"))"
   ]
  },
  {
   "cell_type": "code",
   "execution_count": 43,
   "metadata": {},
   "outputs": [
    {
     "name": "stdout",
     "output_type": "stream",
     "text": [
      "No. of Upper case characters : 8,No. of Lower case characters : 12\n"
     ]
    }
   ],
   "source": [
    "#2. Write a function that accepts a string and prints the number of uppercase letters and lowercase\n",
    "#letters.\n",
    "#Sample input: “abcSdefPghijQkl”\n",
    "#Expected Output: No. of Uppercase characters : 3 No. of Lower case Characters : 12\n",
    "\n",
    "def string_ul(s):      \n",
    "    upp = sum(1 for i in s if i.isupper())\n",
    "    low = sum(1 for i in s if i.islower())\n",
    "    print( \"No. of Upper case characters : %s,No. of Lower case characters : %s\" % (upp,low))\n",
    "\n",
    "string_ul(\"Hello CHARMY, How are you?\")"
   ]
  },
  {
   "cell_type": "code",
   "execution_count": 44,
   "metadata": {},
   "outputs": [
    {
     "name": "stdout",
     "output_type": "stream",
     "text": [
      "(8, 12)\n"
     ]
    }
   ],
   "source": [
    "def string_ul(string):\n",
    "  uppers = 0\n",
    "  lowers = 0\n",
    "  for char in string:\n",
    "    if char.islower():\n",
    "      lowers += 1\n",
    "    elif char.isupper():\n",
    "      uppers +=1\n",
    "    else: \n",
    "      pass\n",
    "  return(uppers, lowers)\n",
    "\n",
    "print(string_ul(\"Hello CHARMY, How are you?\"))"
   ]
  },
  {
   "cell_type": "code",
   "execution_count": 53,
   "metadata": {},
   "outputs": [
    {
     "name": "stdout",
     "output_type": "stream",
     "text": [
      "list items:  [1, 1, 1, 2, 3, 3, 4, 4, 4, 4, 5, 5, 6, 7, 7]\n",
      "[1, 2, 3, 4, 5, 6, 7]\n"
     ]
    }
   ],
   "source": [
    "# 3. Create a function that takes a list and returns a new list with unique elements of the first list.\n",
    "\n",
    "def unique_list3(list):\n",
    "    new_list =[]\n",
    "    for i in list:\n",
    "        if i not in new_list:\n",
    "            new_list.append(i)\n",
    "    return(new_list)\n",
    "x= [1,1,1,2,3,3,4,4,4,4,5,5,6,7,7]\n",
    "print(\"list items: \", x)\n",
    "print(unique_list3(x))"
   ]
  },
  {
   "cell_type": "code",
   "execution_count": 57,
   "metadata": {},
   "outputs": [
    {
     "name": "stdout",
     "output_type": "stream",
     "text": [
      "enter a  hyphen-separated sequence of words: charmy-join-a-consulteapp-lastweek\n",
      "a-charmy-consulteapp-join-lastweek\n"
     ]
    }
   ],
   "source": [
    "# 4. Write a program that accepts a hyphen-separated sequence of words as input and prints the words\n",
    "#in a hyphen-separated sequence after sorting them alphabetically.\n",
    "\n",
    "#items=[n for n in input().split('-')]\n",
    "#items.sort()\n",
    "#print('-'.join(items))\n",
    "\n",
    "def hyphen_sep(seq):\n",
    "    for n in seq:\n",
    "        seq_fun= seq.split('-')\n",
    "        seq_fun.sort()\n",
    "    return ('-'.join(seq_fun))\n",
    "seq_world = input(\"enter a  hyphen-separated sequence of words: \")\n",
    "print(hyphen_sep(seq_world))"
   ]
  },
  {
   "cell_type": "code",
   "execution_count": 10,
   "metadata": {},
   "outputs": [
    {
     "name": "stdout",
     "output_type": "stream",
     "text": [
      " Hello world Practice makes man perfect\n",
      "charmy padmani\n",
      "\n",
      " HELLO WORLD PRACTICE MAKES MAN PERFECT\n",
      "CHARMY PADMANI\n"
     ]
    }
   ],
   "source": [
    "#5. Write a program that accepts a sequence of lines as input and prints the lines after making all characters in the sentence capitalized.\n",
    "#Sample input: Hello world Practice makes man perfect\n",
    "#Expected output: HELLO WORLD PRACTICE MAKES MAN PERFECT\n",
    "def seq_line():\n",
    "    lines = []\n",
    "    while True:\n",
    "        seq = input()\n",
    "        if seq:\n",
    "            lines.append(seq.upper())\n",
    "        else:\n",
    "            break;\n",
    "        \n",
    "    def print_line():\n",
    "            for l in lines:\n",
    "                print(l)\n",
    "            return \n",
    "    return print_line\n",
    "\n",
    "sequence = seq_line()\n",
    "sequence()\n",
    "\n",
    "\n",
    "    "
   ]
  },
  {
   "cell_type": "code",
   "execution_count": 18,
   "metadata": {},
   "outputs": [
    {
     "name": "stdout",
     "output_type": "stream",
     "text": [
      "enter 1st integral: 5\n",
      "enter 2nd integral: 10\n",
      "<class 'str'>\n",
      "<class 'str'>\n",
      "15\n"
     ]
    }
   ],
   "source": [
    "# 6. Define a function that can receive two integral numbers in string form and compute their sum and print it in the console.\n",
    "\n",
    "def sum(a,b):\n",
    "    c=int(a)+int(b)\n",
    "    return c\n",
    "x =input(\"enter 1st integral: \")\n",
    "y =input(\"enter 2nd integral: \")\n",
    "print(type(y))\n",
    "print(type(x))\n",
    "print(sum(x,y))\n"
   ]
  },
  {
   "cell_type": "code",
   "execution_count": 22,
   "metadata": {},
   "outputs": [
    {
     "name": "stdout",
     "output_type": "stream",
     "text": [
      "enter 1st string: charmy1\n",
      "enter 2nd string: charmy2\n",
      "charmy1charmy2\n"
     ]
    }
   ],
   "source": [
    "#7. Define a function that can accept two strings as input and print the string with the maximum length\n",
    "#in the console. If two strings have the same length, then the function should print both the strings line by line.\n",
    "\n",
    "def length (a,b):\n",
    "    if len(a) == len(b):\n",
    "        c=a+b\n",
    "    elif len(a)>len(b):\n",
    "        c = a\n",
    "    else:\n",
    "        c=b\n",
    "    return c\n",
    "\n",
    "x =input(\"enter 1st string: \")\n",
    "y =input(\"enter 2nd string: \")\n",
    "print(length(x,y))\n",
    "    "
   ]
  },
  {
   "cell_type": "code",
   "execution_count": 33,
   "metadata": {},
   "outputs": [
    {
     "name": "stdout",
     "output_type": "stream",
     "text": [
      "(1, 2, 3, 4, 5, 6, 7, 8, 9, 10, 11, 12, 13, 14, 15, 16, 17, 18, 19, 20)\n"
     ]
    }
   ],
   "source": [
    "# 8. Define a function which can generate and print a tuple where the values are square of numbersbetween 1 and 20 (both 1 and 20 included).\n",
    "def tup_int():\n",
    "    tup_num =()\n",
    "    tup_to_list= list(tup_num)\n",
    "    for i in range(0,20):\n",
    "         tup_to_list.append(i+1) \n",
    "    return tuple( tup_to_list)\n",
    "print(tup_int())\n",
    "        "
   ]
  },
  {
   "cell_type": "code",
   "execution_count": 75,
   "metadata": {},
   "outputs": [
    {
     "name": "stdout",
     "output_type": "stream",
     "text": [
      "enter the limit: 5\n",
      "0 EVEN\n",
      "1 ODD\n",
      "2 EVEN\n",
      "3 ODD\n",
      "4 EVEN\n",
      "5 ODD\n"
     ]
    }
   ],
   "source": [
    "# 9 Write a function called showNumbers that takes a parameter called limit. It should print all the\n",
    "#numbers between 0 and limit with a label to identify the even and odd numbers.\n",
    "#Sample input: show Numbers(3) (where limit=3)\n",
    "#Expected output:\n",
    "#0 EVEN\n",
    "#1 ODD\n",
    "\n",
    "def showNumbers(limit):\n",
    "    for i in range(0, limit+1):\n",
    "        if i%2==0:\n",
    "            print(i,end=\" \")\n",
    "            print(\"EVEN\")\n",
    "        else:\n",
    "            print(i,end=\" \")\n",
    "            print(\"ODD\")\n",
    "    return\n",
    "length = int(input(\"enter the limit: \"))\n",
    "showNumbers(length)"
   ]
  },
  {
   "cell_type": "code",
   "execution_count": 1,
   "metadata": {},
   "outputs": [
    {
     "name": "stdout",
     "output_type": "stream",
     "text": [
      "[1, 2, 3, 4, 5, 6, 7, 8, 9, 10, 11, 12, 13, 14, 15, 16, 17, 18, 19, 20]\n",
      "[2, 4, 6, 8, 10, 12, 14, 16, 18, 20]\n"
     ]
    }
   ],
   "source": [
    "# 10. Write a program which uses filter() to make a list whose elements are even numbers between 1\n",
    "#and 20 (both included)\n",
    "\n",
    "#even_num = lambda x: x % 2 == 0\n",
    "#List_new =filter(even_num, List1)\n",
    "\n",
    "List1=[]\n",
    "for i in range(1,21):\n",
    "    List1.append(i)\n",
    "print(List1)\n",
    "List_new =list(filter(lambda x: x % 2 == 0, List1))\n",
    "print(List_new)\n"
   ]
  },
  {
   "cell_type": "code",
   "execution_count": 4,
   "metadata": {},
   "outputs": [
    {
     "name": "stdout",
     "output_type": "stream",
     "text": [
      "[1, 2, 3, 4, 5, 6, 7, 8, 9, 10]\n",
      "[4, 16, 36, 64, 100]\n"
     ]
    }
   ],
   "source": [
    " # 11. Write a program which uses map() and filter() to make a list whose elements are squares of even\n",
    "#numbers in [1,2,3,4,5,6,7,8,9,10].\n",
    "#Hints: Use filter() to filter even elements of the given listUse map() to generate a list of squares of the\n",
    "#numbers in the filtered list. Use lambda() to define anonymous functions.\n",
    "\n",
    "List1=[]\n",
    "for i in range(1,11):\n",
    "    List1.append(i)\n",
    "print(List1)\n",
    "List_new =list(map(lambda x: x**2, filter(lambda x: x % 2 == 0, List1)))\n",
    "print(List_new)"
   ]
  },
  {
   "cell_type": "code",
   "execution_count": 8,
   "metadata": {},
   "outputs": [
    {
     "name": "stdout",
     "output_type": "stream",
     "text": [
      "Sorry ! You are dividing by zero \n",
      "x/y 1.5\n"
     ]
    }
   ],
   "source": [
    "# 12. Write a function to compute 5/0 and use try/except to catch the exceptions\n",
    "def divide (x,y):\n",
    "    try:\n",
    "        result = x/y\n",
    "        print(\"x/y\", result)\n",
    "    except ZeroDivisionError:\n",
    "        print(\"Sorry ! You are dividing by zero \")  \n",
    "    \n",
    "divide(5,0)\n",
    "divide(3,2)"
   ]
  },
  {
   "cell_type": "code",
   "execution_count": 32,
   "metadata": {},
   "outputs": [
    {
     "name": "stdout",
     "output_type": "stream",
     "text": [
      "1234567\n"
     ]
    }
   ],
   "source": [
    "# 13. Flatten the list [1,2,3,4,5,6,7] into 1234567 using reduce().\n",
    "\n",
    "\n",
    "from functools import reduce\n",
    "\n",
    "list1 =[1,2,3,4,5,6,7]\n",
    "\n",
    "list13 = reduce(lambda x, y,:str(x)+str(y) ,list1)\n",
    "print(list13)"
   ]
  },
  {
   "cell_type": "code",
   "execution_count": 73,
   "metadata": {},
   "outputs": [
    {
     "name": "stdout",
     "output_type": "stream",
     "text": [
      "7, 14, "
     ]
    }
   ],
   "source": [
    "# 14. Write a program in Python to find the values which are not divisible by 3 but are a multiple of 7.\n",
    "#Make sure to use only higher order functions.\n",
    "def find_value():\n",
    "    num =[]\n",
    "    for x in range(1, 20):\n",
    "        if (x%7==0) and (x%3!=0):\n",
    "             num.append(x)\n",
    "    \n",
    "    def print_num():\n",
    "        for l in num:\n",
    "                print(l,end=\", \")\n",
    "                \n",
    "        return\n",
    "    return print_num\n",
    "high_fun = find_value()\n",
    "high_fun()\n",
    "  "
   ]
  },
  {
   "cell_type": "code",
   "execution_count": 69,
   "metadata": {},
   "outputs": [
    {
     "name": "stdout",
     "output_type": "stream",
     "text": [
      "[1, 4, 9, 16, 25, 36, 49]\n"
     ]
    }
   ],
   "source": [
    "# 15. Write a program in Python to multiply the elements of a list by itself using a traditional function\n",
    "#and pass the function to map() to complete the operation.\n",
    "\n",
    "def mul_list(n):\n",
    "    return n * n\n",
    "number = [1,2,3,4,5,6,7]\n",
    "result =map(mul_list, number)\n",
    "print(list(result))"
   ]
  },
  {
   "cell_type": "code",
   "execution_count": 70,
   "metadata": {},
   "outputs": [
    {
     "name": "stdout",
     "output_type": "stream",
     "text": [
      "2\n"
     ]
    }
   ],
   "source": [
    "# 16. What is the output of the following codes:\n",
    "def foo():\n",
    "    try:\n",
    "        return 1\n",
    "    finally:\n",
    "        return 2\n",
    "k = foo()\n",
    "print(k)"
   ]
  },
  {
   "cell_type": "code",
   "execution_count": 71,
   "metadata": {},
   "outputs": [
    {
     "ename": "IndentationError",
     "evalue": "expected an indented block (<ipython-input-71-06e392ac042f>, line 2)",
     "output_type": "error",
     "traceback": [
      "\u001b[1;36m  File \u001b[1;32m\"<ipython-input-71-06e392ac042f>\"\u001b[1;36m, line \u001b[1;32m2\u001b[0m\n\u001b[1;33m    try:\u001b[0m\n\u001b[1;37m      ^\u001b[0m\n\u001b[1;31mIndentationError\u001b[0m\u001b[1;31m:\u001b[0m expected an indented block\n"
     ]
    }
   ],
   "source": [
    "def a():\n",
    "try:\n",
    "f(x, 4)\n",
    "finally:\n",
    "print('after f')\n",
    "print('after f?')\n",
    "a()"
   ]
  },
  {
   "cell_type": "code",
   "execution_count": null,
   "metadata": {},
   "outputs": [],
   "source": []
  }
 ],
 "metadata": {
  "kernelspec": {
   "display_name": "Python 3",
   "language": "python",
   "name": "python3"
  },
  "language_info": {
   "codemirror_mode": {
    "name": "ipython",
    "version": 3
   },
   "file_extension": ".py",
   "mimetype": "text/x-python",
   "name": "python",
   "nbconvert_exporter": "python",
   "pygments_lexer": "ipython3",
   "version": "3.7.6"
  }
 },
 "nbformat": 4,
 "nbformat_minor": 4
}
