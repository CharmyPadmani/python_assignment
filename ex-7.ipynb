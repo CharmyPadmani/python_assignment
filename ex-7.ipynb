{
 "cells": [
  {
   "cell_type": "code",
   "execution_count": 19,
   "metadata": {},
   "outputs": [
    {
     "name": "stdout",
     "output_type": "stream",
     "text": [
      "Enter comma-separated sequence: 5,2,8\n",
      "[4, 3, 5]\n"
     ]
    }
   ],
   "source": [
    "# 1 Write a program that calculates and prints the value according to the given formula:\n",
    "#Q= Square root of [(2*C*D)/H]\n",
    "\n",
    "import math\n",
    "\n",
    "num = input(\"Enter comma-separated sequence: \")\n",
    "num = num.split(',')\n",
    "\n",
    "result_list = []\n",
    "for i in num:\n",
    "    result= round(math.sqrt(2 * 50 * int(i) / 30))\n",
    "    result_list.append(result)\n",
    "\n",
    "print(result_list)"
   ]
  },
  {
   "cell_type": "code",
   "execution_count": 28,
   "metadata": {},
   "outputs": [
    {
     "name": "stdout",
     "output_type": "stream",
     "text": [
      "121\n",
      "0\n",
      "0\n"
     ]
    }
   ],
   "source": [
    "# 2. Define a class named Shape and its subclass Square. The Square class has an init function which\n",
    "#takes length as argument. Both classes have an area function which can print the area of the shape\n",
    "#where Shape’s area is 0 by default.\n",
    "\n",
    "class Shape:\n",
    "     def __init__(self):\n",
    "        pass\n",
    "     def area(self):\n",
    "            return 0\n",
    "class Square(Shape):\n",
    "        def __init__(self, length=0):\n",
    "            Shape.__init__(self)\n",
    "            self.length = length\n",
    "            \n",
    "        def area(self):\n",
    "            return self.length *self.length\n",
    "            \n",
    "#result = Square(10)\n",
    "print(Square(11).area())\n",
    "print(Square().area())\n",
    "print(Shape().area())\n"
   ]
  },
  {
   "cell_type": "code",
   "execution_count": 24,
   "metadata": {},
   "outputs": [
    {
     "name": "stdout",
     "output_type": "stream",
     "text": [
      "[[-10, 2, 8], [-7, -3, 10]]\n"
     ]
    }
   ],
   "source": [
    "# 3. Create a class to find three elements that sum to zero from a set of n real numbers\n",
    "#Input array: [-25,-10,-7,-3,2,4,8,10]\n",
    "#Expected output: [[-10,2,8],[-7,-3,10]]\n",
    "\n",
    "class sum_arr:\n",
    "\n",
    "    def findZeroSum(self,list, l):\n",
    "        arr, n = list, l\n",
    "        result =[]\n",
    "        found = False\n",
    "        for i in range(0, n-2):\n",
    "      \n",
    "               for j in range(i+1, n-1):\n",
    "          \n",
    "                    for k in range(j+1, n):\n",
    "              \n",
    "                        if (arr[i] + arr[j] + arr[k] == 0):\n",
    "                                result.append([arr[i], arr[j], arr[k]])\n",
    "                                found = True\n",
    "      \n",
    "        return result\n",
    "\n",
    "arr = [-25,-10,-7,-3,2,4,8,10]\n",
    "n = len(arr)\n",
    "print(sum_arr().findZeroSum(arr, n))"
   ]
  },
  {
   "cell_type": "code",
   "execution_count": 25,
   "metadata": {},
   "outputs": [
    {
     "name": "stdout",
     "output_type": "stream",
     "text": [
      "4 hr 10 min\n",
      "1 hr 2 min\n",
      "62 minute\n"
     ]
    }
   ],
   "source": [
    "# 4. Create a Time class and initialize it with hours and minutes.\n",
    "#Create a method addTime which should take two Time objects and add them.\n",
    "\n",
    "class Time():\n",
    "\n",
    "  def __init__(self, hours, mins):\n",
    "    self.hours = hours\n",
    "    self.mins = mins\n",
    "\n",
    "  def addTime(t1, t2):\n",
    "    t3 = Time(0,0)\n",
    "    if t1.mins+t2.mins > 60:\n",
    "      t3.hours = (t1.mins+t2.mins)//60\n",
    "    t3.hours = t3.hours+t1.hours+t2.hours\n",
    "    t3.mins = (t1.mins + t2.mins) % 60\n",
    "    return t3\n",
    "\n",
    "  def displayTime(self):\n",
    "    print (self.hours,\"hr\",self.mins,\"min\")\n",
    "\n",
    "  def displayMinute(self):\n",
    "    print ((self.hours*60)+self.mins,\"minute\")\n",
    "\n",
    "a = Time(2,50)\n",
    "b = Time(1,20)\n",
    "c = Time.addTime(a,b)\n",
    "c.displayTime()\n",
    "d = Time(1,2)\n",
    "d.displayTime()\n",
    "d.displayMinute()"
   ]
  },
  {
   "cell_type": "code",
   "execution_count": 1,
   "metadata": {},
   "outputs": [
    {
     "name": "stdout",
     "output_type": "stream",
     "text": [
      "8\n",
      "-1\n",
      "Age is not valid, setting age to 0.\n",
      "4\n",
      "You are young.\n",
      "10\n",
      "You are young.\n",
      "16\n",
      "You are a teenager.\n",
      "18\n",
      "You are a teenager.\n",
      "64\n",
      "You are old.\n",
      "38\n",
      "You are old.\n",
      "0\n",
      "None\n"
     ]
    }
   ],
   "source": [
    "# 5 Write a Person class with an instance variable “age” and a constructor that takes an integer as a\n",
    "#parameter. The constructor must assign the integer value to the age variable after confirming the\n",
    "#argument passed is not negative; if a negative argument is passed then the constructor should set\n",
    "#age to 0 and print “Age is not valid, setting age to 0”. In addition, you must write the following instance\n",
    "#methods:\n",
    "\n",
    "class Person:\n",
    "    \n",
    "    def __init__(self,initialAge):\n",
    "        if initialAge < 0:\n",
    "            self.age = 0\n",
    "            print(\"Age is not valid, setting age to 0.\")\n",
    "        else:\n",
    "            self.age = initialAge\n",
    "            \n",
    "    def amIOld(self):\n",
    "        if 0<self.age < 13:\n",
    "            print(\"You are young.\")\n",
    "        elif self.age>=13 and self.age <=19:\n",
    "            print(\"You are a teenager.\")\n",
    "        elif self.age > 19:\n",
    "              print(\"You are old.\")\n",
    "        else:\n",
    "            pass\n",
    "            \n",
    "    def yearPasses(self):\n",
    "              self.age += 38\n",
    "        \n",
    "        \n",
    "n = int(input())\n",
    "for i in range(0,n):\n",
    "    age = int(input())\n",
    "    p = Person(age)\n",
    "    p.amIOld()\n",
    "    \n",
    "print(Person(4).yearPasses())\n"
   ]
  },
  {
   "cell_type": "code",
   "execution_count": null,
   "metadata": {},
   "outputs": [],
   "source": []
  }
 ],
 "metadata": {
  "kernelspec": {
   "display_name": "Python 3",
   "language": "python",
   "name": "python3"
  },
  "language_info": {
   "codemirror_mode": {
    "name": "ipython",
    "version": 3
   },
   "file_extension": ".py",
   "mimetype": "text/x-python",
   "name": "python",
   "nbconvert_exporter": "python",
   "pygments_lexer": "ipython3",
   "version": "3.7.6"
  }
 },
 "nbformat": 4,
 "nbformat_minor": 4
}
