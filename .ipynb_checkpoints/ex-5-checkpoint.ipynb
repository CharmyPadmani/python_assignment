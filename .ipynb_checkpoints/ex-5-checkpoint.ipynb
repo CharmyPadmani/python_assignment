{
 "cells": [
  {
   "cell_type": "code",
   "execution_count": null,
   "metadata": {},
   "outputs": [],
   "source": [
    "# 1. Write a program in Python to allow the error of syntax to be handled using exception handling.\n",
    "#HINT: Use SyntaxError\n",
    "try:\n",
    "   a = \"t\"\n",
    "   print(\"output\",int(a))\n",
    "\n",
    "except Exception as e:\n",
    "    print(\"output error\", e)\n",
    "\n",
    "\n",
    "try:\n",
    "\n",
    "    print('Addition',( 2 + o))\n",
    "    print(type(c))\n",
    "\n",
    "except:\n",
    "    print(\"SyntaxError\")\n"
   ]
  },
  {
   "cell_type": "code",
   "execution_count": 1,
   "metadata": {
    "scrolled": false
   },
   "outputs": [
    {
     "name": "stdout",
     "output_type": "stream",
     "text": [
      "This is the name of the program: C:\\Users\\charmy\\anaconda3\\lib\\site-packages\\ipykernel_launcher.py\n",
      "Argument List: ['C:\\\\Users\\\\charmy\\\\anaconda3\\\\lib\\\\site-packages\\\\ipykernel_launcher.py', '-f', 'C:\\\\Users\\\\charmy\\\\AppData\\\\Roaming\\\\jupyter\\\\runtime\\\\kernel-f922ce29-58aa-46a5-985b-845b02d6c5f7.json']\n"
     ]
    }
   ],
   "source": [
    "# 2. Write a program in Python to allow the user to open a file by using the argv module. If the\n",
    "#entered name is incorrect throw an exception and ask them to enter the name again. Make sure\n",
    "#to use read only mode.\n",
    "\n",
    "import sys\n",
    "print(\"This is the name of the program:\", sys.argv[0])\n",
    "print(\"Argument List:\", str(sys.argv))\n"
   ]
  },
  {
   "cell_type": "code",
   "execution_count": 91,
   "metadata": {},
   "outputs": [
    {
     "ename": "SyntaxError",
     "evalue": "invalid syntax (<ipython-input-91-d7c86aea6153>, line 20)",
     "output_type": "error",
     "traceback": [
      "\u001b[1;36m  File \u001b[1;32m\"<ipython-input-91-d7c86aea6153>\"\u001b[1;36m, line \u001b[1;32m20\u001b[0m\n\u001b[1;33m    except ValueError as e:\u001b[0m\n\u001b[1;37m         ^\u001b[0m\n\u001b[1;31mSyntaxError\u001b[0m\u001b[1;31m:\u001b[0m invalid syntax\n"
     ]
    }
   ],
   "source": [
    "# 3. Write a program to handle an error if the user entered a number more than four digits it should\n",
    "#return “The length is too short/long !!! Please provide only four digits”\n",
    "\n",
    "def seq_line():\n",
    "     while True:\n",
    "            try:\n",
    "                lines = []\n",
    "       \n",
    "                seq = int(input(\"num\"))\n",
    "                if seq:\n",
    "                    lines.append(seq)\n",
    "                else:\n",
    "                    break;\n",
    "        \n",
    "        \n",
    "            for l in range(0,4):\n",
    "                print(lines[l])\n",
    "           \n",
    "       \n",
    "            except ValueError:\n",
    "                    print(\"The length is too short/long !!! Please provide only four digits\")  \n",
    "  \n",
    "seq_line()\n"
   ]
  },
  {
   "cell_type": "code",
   "execution_count": 92,
   "metadata": {},
   "outputs": [
    {
     "ename": "SyntaxError",
     "evalue": "invalid syntax (<ipython-input-92-9b4207e62388>, line 1)",
     "output_type": "error",
     "traceback": [
      "\u001b[1;36m  File \u001b[1;32m\"<ipython-input-92-9b4207e62388>\"\u001b[1;36m, line \u001b[1;32m1\u001b[0m\n\u001b[1;33m    ef seq_line():\u001b[0m\n\u001b[1;37m              ^\u001b[0m\n\u001b[1;31mSyntaxError\u001b[0m\u001b[1;31m:\u001b[0m invalid syntax\n"
     ]
    }
   ],
   "source": [
    "   \n",
    "\n",
    "ef seq_line():\n",
    "    try:\n",
    "        count = 0\n",
    "    while n != 0:\n",
    "        n //= 10\n",
    "        count += 1\n",
    "        \n",
    "    print(count)\n",
    "           \n",
    "       \n",
    "    except:\n",
    "        print(\"The length is too short/long !!! Please provide only four digits\")  \n",
    "  \n",
    "seq_line()\n"
   ]
  },
  {
   "cell_type": "code",
   "execution_count": 12,
   "metadata": {},
   "outputs": [
    {
     "name": "stdout",
     "output_type": "stream",
     "text": [
      "C:\\Users\\charmy\\anaconda3\\lib\\site-packages\\ipykernel_launcher.py\n"
     ]
    },
    {
     "data": {
      "text/plain": [
       "<_io.TextIOWrapper name='C:\\\\Users\\\\charmy\\\\anaconda3\\\\lib\\\\site-packages\\\\ipykernel_launcher.py' mode='w' encoding='cp1252'>"
      ]
     },
     "execution_count": 12,
     "metadata": {},
     "output_type": "execute_result"
    }
   ],
   "source": [
    "import sys\n",
    "file_name = sys.argv[0]\n",
    "text = ()\n",
    "print(file_name)\n",
    "open(file_name, 'w')\n"
   ]
  },
  {
   "cell_type": "code",
   "execution_count": 16,
   "metadata": {},
   "outputs": [
    {
     "name": "stdout",
     "output_type": "stream",
     "text": [
      "C:\\Users\\charmy\\anaconda3\\lib\\site-packages\\ipykernel_launcher.py\n"
     ]
    },
    {
     "ename": "ValueError",
     "evalue": "invalid literal for int() with base 10: '-f'",
     "output_type": "error",
     "traceback": [
      "\u001b[1;31m---------------------------------------------------------------------------\u001b[0m",
      "\u001b[1;31mValueError\u001b[0m                                Traceback (most recent call last)",
      "\u001b[1;32m<ipython-input-16-57e8c61fe954>\u001b[0m in \u001b[0;36m<module>\u001b[1;34m\u001b[0m\n\u001b[0;32m     10\u001b[0m \u001b[0mprint\u001b[0m\u001b[1;33m(\u001b[0m\u001b[0mfile_name\u001b[0m\u001b[1;33m)\u001b[0m\u001b[1;33m\u001b[0m\u001b[1;33m\u001b[0m\u001b[0m\n\u001b[0;32m     11\u001b[0m \u001b[1;32mfor\u001b[0m \u001b[0mi\u001b[0m \u001b[1;32min\u001b[0m \u001b[0mrange\u001b[0m\u001b[1;33m(\u001b[0m\u001b[1;36m1\u001b[0m\u001b[1;33m,\u001b[0m \u001b[0mn\u001b[0m\u001b[1;33m)\u001b[0m\u001b[1;33m:\u001b[0m\u001b[1;33m\u001b[0m\u001b[1;33m\u001b[0m\u001b[0m\n\u001b[1;32m---> 12\u001b[1;33m     \u001b[0madd\u001b[0m \u001b[1;33m+=\u001b[0m \u001b[0mint\u001b[0m\u001b[1;33m(\u001b[0m\u001b[0msys\u001b[0m\u001b[1;33m.\u001b[0m\u001b[0margv\u001b[0m\u001b[1;33m[\u001b[0m\u001b[0mi\u001b[0m\u001b[1;33m]\u001b[0m\u001b[1;33m)\u001b[0m\u001b[1;33m\u001b[0m\u001b[1;33m\u001b[0m\u001b[0m\n\u001b[0m\u001b[0;32m     13\u001b[0m \u001b[1;33m\u001b[0m\u001b[0m\n\u001b[0;32m     14\u001b[0m \u001b[0mprint\u001b[0m \u001b[1;33m(\u001b[0m\u001b[1;34m\"the sum is :\"\u001b[0m\u001b[1;33m,\u001b[0m \u001b[0madd\u001b[0m\u001b[1;33m)\u001b[0m\u001b[1;33m\u001b[0m\u001b[1;33m\u001b[0m\u001b[0m\n",
      "\u001b[1;31mValueError\u001b[0m: invalid literal for int() with base 10: '-f'"
     ]
    }
   ],
   "source": [
    "  \n",
    "import sys\n",
    "  \n",
    "add = 0.0\n",
    "  \n",
    "# Getting the length of command\n",
    "# line arguments\n",
    "n = len(sys.argv)\n",
    "file_name = sys.argv[0]\n",
    "text = ()\n",
    "print(file_name)\n",
    "for i in range(1, n):\n",
    "    add += int(sys.argv[i])\n",
    "  \n",
    "print(\"the sum is :\", add)"
   ]
  },
  {
   "cell_type": "code",
   "execution_count": 84,
   "metadata": {},
   "outputs": [
    {
     "ename": "ModuleNotFoundError",
     "evalue": "No module named 'passlib'",
     "output_type": "error",
     "traceback": [
      "\u001b[1;31m---------------------------------------------------------------------------\u001b[0m",
      "\u001b[1;31mModuleNotFoundError\u001b[0m                       Traceback (most recent call last)",
      "\u001b[1;32m<ipython-input-84-6f9776b9ac69>\u001b[0m in \u001b[0;36m<module>\u001b[1;34m\u001b[0m\n\u001b[0;32m      1\u001b[0m \u001b[1;32mfrom\u001b[0m \u001b[0mflask\u001b[0m \u001b[1;32mimport\u001b[0m \u001b[0mFlask\u001b[0m\u001b[1;33m,\u001b[0m \u001b[0mrender_template\u001b[0m\u001b[1;33m,\u001b[0m \u001b[0mrequest\u001b[0m\u001b[1;33m\u001b[0m\u001b[1;33m\u001b[0m\u001b[0m\n\u001b[1;32m----> 2\u001b[1;33m \u001b[1;32mfrom\u001b[0m \u001b[0mpasslib\u001b[0m\u001b[1;33m.\u001b[0m\u001b[0mhash\u001b[0m \u001b[1;32mimport\u001b[0m \u001b[0msha256_crypt\u001b[0m\u001b[1;33m\u001b[0m\u001b[1;33m\u001b[0m\u001b[0m\n\u001b[0m\u001b[0;32m      3\u001b[0m \u001b[1;32mimport\u001b[0m \u001b[0mmysql\u001b[0m\u001b[1;33m.\u001b[0m\u001b[0mconnector\u001b[0m \u001b[1;32mas\u001b[0m \u001b[0mmariadb\u001b[0m\u001b[1;33m\u001b[0m\u001b[1;33m\u001b[0m\u001b[0m\n\u001b[0;32m      4\u001b[0m \u001b[0mapp\u001b[0m \u001b[1;33m=\u001b[0m \u001b[0mFlask\u001b[0m\u001b[1;33m(\u001b[0m\u001b[0m__name__\u001b[0m\u001b[1;33m)\u001b[0m\u001b[1;33m\u001b[0m\u001b[1;33m\u001b[0m\u001b[0m\n\u001b[0;32m      5\u001b[0m \u001b[0mmaraidb_connection\u001b[0m \u001b[1;33m=\u001b[0m \u001b[0mmariadb\u001b[0m\u001b[1;33m.\u001b[0m\u001b[0mconnect\u001b[0m\u001b[1;33m(\u001b[0m\u001b[0muser\u001b[0m\u001b[1;33m=\u001b[0m\u001b[1;34m'chooseAUserName'\u001b[0m\u001b[1;33m,\u001b[0m \u001b[0mpassword\u001b[0m\u001b[1;33m=\u001b[0m\u001b[1;34m'chooseAPassword'\u001b[0m\u001b[1;33m,\u001b[0m \u001b[0mdatabase\u001b[0m\u001b[1;33m=\u001b[0m\u001b[1;34m'Login'\u001b[0m\u001b[1;33m)\u001b[0m\u001b[1;33m\u001b[0m\u001b[1;33m\u001b[0m\u001b[0m\n",
      "\u001b[1;31mModuleNotFoundError\u001b[0m: No module named 'passlib'"
     ]
    }
   ],
   "source": [
    "from flask import Flask, render_template, request\n",
    "from passlib.hash import sha256_crypt\n",
    "import mysql.connector as mariadb\n",
    "app = Flask(__name__)\n",
    "maraidb_connection = mariadb.connect(user='chooseAUserName', password='chooseAPassword', database='Login')\n",
    "@app.route('/')\n",
    "def index():\n",
    "  username = \"newUserName\"\n",
    "  password = sha256_crypt.encrypt(\"newPassword\")\n",
    "  email = \"what@ever.com\""
   ]
  },
  {
   "cell_type": "code",
   "execution_count": 95,
   "metadata": {},
   "outputs": [
    {
     "name": "stdout",
     "output_type": "stream",
     "text": [
      "5\n",
      "4\n",
      "\n",
      "5\n",
      "4\n"
     ]
    }
   ],
   "source": [
    "def seq_line():\n",
    "    lines = []\n",
    "    while True:\n",
    "        seq = input()\n",
    "        if seq:\n",
    "            lines.append(seq)\n",
    "        else:\n",
    "            break;\n",
    "        \n",
    "    def print_line():\n",
    "            for l in lines:\n",
    "                print(l)\n",
    "            return \n",
    "    return print_line\n",
    "\n",
    "sequence = seq_line()\n",
    "sequence()"
   ]
  },
  {
   "cell_type": "code",
   "execution_count": null,
   "metadata": {},
   "outputs": [],
   "source": [
    "def divide (x,y):\n",
    "    try:\n",
    "        result = x/y\n",
    "        print(\"x/y\", result)\n",
    "    except ZeroDivisionError:\n",
    "        print(\"Sorry ! You are dividing by zero \")  \n",
    "    \n",
    "divide(5,0)\n",
    "divide(3,2)"
   ]
  },
  {
   "cell_type": "code",
   "execution_count": null,
   "metadata": {},
   "outputs": [],
   "source": [
    "\n",
    "num = 3452\n",
    "count = 0\n",
    "\n",
    "while num != 0:\n",
    "    num //= 1000\n",
    "    count += 1\n",
    "\n",
    "print(\"Number of digits: \" + str(count))"
   ]
  },
  {
   "cell_type": "code",
   "execution_count": 99,
   "metadata": {},
   "outputs": [
    {
     "ename": "SyntaxError",
     "evalue": "can't assign to literal (<ipython-input-99-c5b77e9bf34f>, line 1)",
     "output_type": "error",
     "traceback": [
      "\u001b[1;36m  File \u001b[1;32m\"<ipython-input-99-c5b77e9bf34f>\"\u001b[1;36m, line \u001b[1;32m1\u001b[0m\n\u001b[1;33m    1000//= 10\u001b[0m\n\u001b[1;37m              ^\u001b[0m\n\u001b[1;31mSyntaxError\u001b[0m\u001b[1;31m:\u001b[0m can't assign to literal\n"
     ]
    }
   ],
   "source": []
  },
  {
   "cell_type": "code",
   "execution_count": null,
   "metadata": {},
   "outputs": [],
   "source": []
  }
 ],
 "metadata": {
  "kernelspec": {
   "display_name": "Python 3",
   "language": "python",
   "name": "python3"
  },
  "language_info": {
   "codemirror_mode": {
    "name": "ipython",
    "version": 3
   },
   "file_extension": ".py",
   "mimetype": "text/x-python",
   "name": "python",
   "nbconvert_exporter": "python",
   "pygments_lexer": "ipython3",
   "version": "3.7.6"
  }
 },
 "nbformat": 4,
 "nbformat_minor": 4
}
